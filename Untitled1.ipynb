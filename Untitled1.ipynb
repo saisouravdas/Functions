{
  "nbformat": 4,
  "nbformat_minor": 0,
  "metadata": {
    "colab": {
      "provenance": []
    },
    "kernelspec": {
      "name": "python3",
      "display_name": "Python 3"
    },
    "language_info": {
      "name": "python"
    }
  },
  "cells": [
    {
      "cell_type": "code",
      "execution_count": 1,
      "metadata": {
        "colab": {
          "base_uri": "https://localhost:8080/"
        },
        "id": "nC9dhTHhmV9Q",
        "outputId": "3eb63239-963f-49ef-c549-e6ef85ceb92d"
      },
      "outputs": [
        {
          "output_type": "stream",
          "name": "stdout",
          "text": [
            "Woof! Buddy\n"
          ]
        }
      ],
      "source": [
        "#1\n",
        "class Dog:\n",
        "    def __init__(self, name):\n",
        "        self.name = name\n",
        "\n",
        "    def bark(self):\n",
        "        print(\"Woof!\", self.name)\n",
        "\n",
        "my_dog = Dog(\"Buddy\")\n",
        "my_dog.bark()"
      ]
    },
    {
      "cell_type": "code",
      "source": [
        "def greet(name, age=30):\n",
        "    print(\"Hello,\", name)\n",
        "    print(\"You are\", age, \"years old.\")\n",
        "greet(\"Alice\", 25)\n",
        "greet(age=35, name=\"Bob\")\n",
        "greet(\"Charlie\")\n",
        "def sum_numbers(*args):\n",
        "    total = 0\n",
        "    for num in args:\n",
        "        total += num\n",
        "    return total\n",
        "\n",
        "result = sum_numbers(1, 2, 3, 4, 5)\n",
        "print(result)"
      ],
      "metadata": {
        "colab": {
          "base_uri": "https://localhost:8080/"
        },
        "id": "sRfhqOhOm4m9",
        "outputId": "6ad74067-3710-47ea-9f66-6fa04e2563b9"
      },
      "execution_count": 2,
      "outputs": [
        {
          "output_type": "stream",
          "name": "stdout",
          "text": [
            "Hello, Alice\n",
            "You are 25 years old.\n",
            "Hello, Bob\n",
            "You are 35 years old.\n",
            "Hello, Charlie\n",
            "You are 30 years old.\n",
            "15\n"
          ]
        }
      ]
    },
    {
      "cell_type": "code",
      "source": [
        "#3\n",
        "def function_name(parameters):\n",
        "    \"\"\"Docstring: A brief description of the function\"\"\"\n",
        "    return value  # Optional return statement"
      ],
      "metadata": {
        "id": "jEw62xWXnQZP"
      },
      "execution_count": 3,
      "outputs": []
    },
    {
      "cell_type": "code",
      "source": [
        "def greet(name, greeting=\"Hello\"):\n",
        "    print(greeting, name)\n",
        "\n",
        "greet(\"Bob\")  # Uses default greeting\n",
        "greet(\"Charlie\", \"Hi\")  # Overrides default greeting"
      ],
      "metadata": {
        "colab": {
          "base_uri": "https://localhost:8080/"
        },
        "id": "H9nXNb8DnoEp",
        "outputId": "f3e4a566-3179-476b-f820-ede8946c46f3"
      },
      "execution_count": 4,
      "outputs": [
        {
          "output_type": "stream",
          "name": "stdout",
          "text": [
            "Hello Bob\n",
            "Hi Charlie\n"
          ]
        }
      ]
    },
    {
      "cell_type": "code",
      "source": [
        "def factorial(n):\n",
        "    if n == 0:\n",
        "        return 1\n",
        "    else:\n",
        "        return n * factorial(n - 1)\n",
        "\n",
        "result = factorial(5)"
      ],
      "metadata": {
        "id": "pVY9cZqhnyXY"
      },
      "execution_count": 5,
      "outputs": []
    },
    {
      "cell_type": "code",
      "source": [
        "square = lambda x: x * x\n",
        "result = square(5)"
      ],
      "metadata": {
        "id": "RiPFFLnNn4hn"
      },
      "execution_count": 6,
      "outputs": []
    },
    {
      "cell_type": "code",
      "source": [
        "#4\n",
        "def add_numbers(x, y):\n",
        "    \"\"\"Adds two numbers and returns the sum.\"\"\"\n",
        "    sum = x + y\n",
        "    return sum\n",
        "\n",
        "result = add_numbers(5, 3)\n",
        "print(result)"
      ],
      "metadata": {
        "colab": {
          "base_uri": "https://localhost:8080/"
        },
        "id": "0uMhSgdin-Gx",
        "outputId": "bc04bc13-b0e8-4756-b5be-68370468ea44"
      },
      "execution_count": 7,
      "outputs": [
        {
          "output_type": "stream",
          "name": "stdout",
          "text": [
            "8\n"
          ]
        }
      ]
    },
    {
      "cell_type": "code",
      "source": [
        "#6\n",
        "def my_generator():\n",
        "    yield 1\n",
        "    yield 2\n",
        "    yield 3"
      ],
      "metadata": {
        "id": "73UuoRLmpKkq"
      },
      "execution_count": 11,
      "outputs": []
    },
    {
      "cell_type": "code",
      "source": [
        "def fibonacci_generator(limit):\n",
        "    a, b = 0, 1\n",
        "    while a < limit:\n",
        "        yield a\n",
        "        a, b = b, a + b\n",
        "\n",
        "for num in fibonacci_generator(10):\n",
        "    print(num)"
      ],
      "metadata": {
        "colab": {
          "base_uri": "https://localhost:8080/"
        },
        "id": "HGrf97KtpZ0Q",
        "outputId": "25fa008b-d2f3-444d-a74e-621306f6cea0"
      },
      "execution_count": 12,
      "outputs": [
        {
          "output_type": "stream",
          "name": "stdout",
          "text": [
            "0\n",
            "1\n",
            "1\n",
            "2\n",
            "3\n",
            "5\n",
            "8\n"
          ]
        }
      ]
    },
    {
      "cell_type": "code",
      "source": [
        "#7\n",
        "#Memory Efficiency:\n",
        "\n",
        "#Generators produce values on-the-fly, one at a time. This means they don't need to store the entire sequence in memory at once.\n",
        "#This is especially beneficial for large datasets or infinite sequences, as it prevents memory overflow.\n",
        "#Lazy Evaluation:\n",
        "\n",
        "#Generators only compute values when they are explicitly requested.\n",
        "#This can lead to significant performance improvements, especially for complex calculations or I/O-bound operations.\n",
        "#Simplified Code:\n",
        "\n",
        "#Generators often lead to more concise and readable code, especially for iterative tasks.\n",
        "#The yield keyword simplifies the process of generating sequences, making the code more intuitive.\n",
        "#Infinite Sequences:\n",
        "\n",
        "#Generators can easily handle infinite sequences, such as Fibonacci numbers or prime numbers.\n",
        "#This is not possible with regular functions, which would require storing the entire sequence in memory.\n",
        "#Custom Iterators:\n",
        "\n",
        "#Generators allow you to create custom iterators for various data structures and algorithms.\n",
        "#This provides more flexibility and control over the iteration process.\n"
      ],
      "metadata": {
        "id": "XUsnZFwRpd8K"
      },
      "execution_count": 13,
      "outputs": []
    },
    {
      "cell_type": "code",
      "source": [
        "#8\n",
        "names = ['Alice', 'Bob', 'Charlie', 'David']\n",
        "sorted_names = sorted(names, key=lambda x: len(x))\n",
        "print(sorted_names)  # Output: ['Bob', 'Alice', 'David', 'Charlie']"
      ],
      "metadata": {
        "colab": {
          "base_uri": "https://localhost:8080/"
        },
        "id": "6Mereg60qKe9",
        "outputId": "3f05e3a9-5368-4705-a786-bccac2de6cee"
      },
      "execution_count": 14,
      "outputs": [
        {
          "output_type": "stream",
          "name": "stdout",
          "text": [
            "['Bob', 'Alice', 'David', 'Charlie']\n"
          ]
        }
      ]
    },
    {
      "cell_type": "code",
      "source": [
        "my_dict = {'a': 3, 'b': 1, 'c': 2}\n",
        "sorted_dict = sorted(my_dict.items(), key=lambda x: x[1])\n",
        "print(sorted_dict)"
      ],
      "metadata": {
        "colab": {
          "base_uri": "https://localhost:8080/"
        },
        "id": "9eu5vc_OqXap",
        "outputId": "d91c9e05-b53b-4507-abf2-89e74889bc62"
      },
      "execution_count": 15,
      "outputs": [
        {
          "output_type": "stream",
          "name": "stdout",
          "text": [
            "[('b', 1), ('c', 2), ('a', 3)]\n"
          ]
        }
      ]
    },
    {
      "cell_type": "code",
      "source": [
        "numbers = [1, 2, 3, 4, 5]\n",
        "even_numbers = filter(lambda x: x % 2 == 0, numbers)\n",
        "print(list(even_numbers))"
      ],
      "metadata": {
        "colab": {
          "base_uri": "https://localhost:8080/"
        },
        "id": "gaubFc7Gqbzq",
        "outputId": "dc14f475-dbeb-41c9-d9f3-5f26497ccf44"
      },
      "execution_count": 16,
      "outputs": [
        {
          "output_type": "stream",
          "name": "stdout",
          "text": [
            "[2, 4]\n"
          ]
        }
      ]
    },
    {
      "cell_type": "code",
      "source": [
        "#9\n",
        "numbers = [1, 2, 3, 4, 5]\n",
        "\n",
        "\n",
        "def square(x):\n",
        "    return x * x\n",
        "\n",
        "\n",
        "squared_numbers = map(square, numbers)\n",
        "\n",
        "\n",
        "squared_numbers_list = list(squared_numbers)\n",
        "\n",
        "print(squared_numbers_list)"
      ],
      "metadata": {
        "colab": {
          "base_uri": "https://localhost:8080/"
        },
        "id": "zwjxlTr6qhHu",
        "outputId": "980ab899-20ab-43d2-a68c-fc64e33177e1"
      },
      "execution_count": 17,
      "outputs": [
        {
          "output_type": "stream",
          "name": "stdout",
          "text": [
            "[1, 4, 9, 16, 25]\n"
          ]
        }
      ]
    },
    {
      "cell_type": "code",
      "source": [
        "#10\n",
        "numbers = [1, 2, 3, 4, 5]\n",
        "squared_numbers = map(lambda x: x*x, numbers)\n",
        "print(list(squared_numbers))"
      ],
      "metadata": {
        "colab": {
          "base_uri": "https://localhost:8080/"
        },
        "id": "VirwMW5Eqx7r",
        "outputId": "64a2d54e-6cef-4a28-f4eb-ac65452e310d"
      },
      "execution_count": 18,
      "outputs": [
        {
          "output_type": "stream",
          "name": "stdout",
          "text": [
            "[1, 4, 9, 16, 25]\n"
          ]
        }
      ]
    },
    {
      "cell_type": "code",
      "source": [
        "from functools import reduce\n",
        "\n",
        "numbers = [1, 2, 3, 4, 5]\n",
        "sum_of_numbers = reduce(lambda x, y: x+y, numbers)\n",
        "print(sum_of_numbers)"
      ],
      "metadata": {
        "colab": {
          "base_uri": "https://localhost:8080/"
        },
        "id": "Rzz6gMJ5q6ha",
        "outputId": "08b7c648-ef3f-44dd-bade-79311b4d1ef7"
      },
      "execution_count": 19,
      "outputs": [
        {
          "output_type": "stream",
          "name": "stdout",
          "text": [
            "15\n"
          ]
        }
      ]
    },
    {
      "cell_type": "code",
      "source": [
        "#11\n",
        "from functools import reduce\n",
        "\n",
        "numbers = [47, 11, 42, 13]\n",
        "result = reduce(lambda x, y: x + y, numbers)\n",
        "print(result)"
      ],
      "metadata": {
        "colab": {
          "base_uri": "https://localhost:8080/"
        },
        "id": "gtCcNnunrAzA",
        "outputId": "6f8475b7-4dfb-46b6-b074-4b390e9ce85f"
      },
      "execution_count": 20,
      "outputs": [
        {
          "output_type": "stream",
          "name": "stdout",
          "text": [
            "113\n"
          ]
        }
      ]
    },
    {
      "cell_type": "code",
      "source": [
        "#Practical Questions:\n",
        "#1\n",
        "def sum_even_numbers(numbers):\n",
        "  \"\"\"Calculates the sum of even numbers in a list.\n",
        "\n",
        "  Args:\n",
        "    numbers: A list of numbers.\n",
        "\n",
        "  Returns:\n",
        "    The sum of even numbers in the list.\n",
        "  \"\"\"\n",
        "\n",
        "  even_sum = 0\n",
        "  for num in numbers:\n",
        "    if num % 2 == 0:\n",
        "      even_sum += num\n",
        "  return even_sum\n",
        "\n",
        "# Example usage:\n",
        "my_list = [1, 2, 3, 4, 5, 6, 7, 8, 9, 10]\n",
        "result = sum_even_numbers(my_list)\n",
        "print(result)"
      ],
      "metadata": {
        "colab": {
          "base_uri": "https://localhost:8080/"
        },
        "id": "Y9CeovqvrOSj",
        "outputId": "374bea74-fc26-460d-b2d0-611d6c28400c"
      },
      "execution_count": 21,
      "outputs": [
        {
          "output_type": "stream",
          "name": "stdout",
          "text": [
            "30\n"
          ]
        }
      ]
    },
    {
      "cell_type": "code",
      "source": [
        "#2\n",
        "def reverse_string(string):\n",
        "  \"\"\"Reverses a given string.\n",
        "\n",
        "  Args:\n",
        "    string: The input string.\n",
        "\n",
        "  Returns:\n",
        "    The reversed string.\n",
        "  \"\"\"\n",
        "\n",
        "  reversed_string = \"\"\n",
        "  for char in string:\n",
        "    reversed_string = char + reversed_string\n",
        "  return reversed_string"
      ],
      "metadata": {
        "id": "bflkf3wMtYTN"
      },
      "execution_count": 22,
      "outputs": []
    },
    {
      "cell_type": "code",
      "source": [
        "input_string = \"hello world\"\n",
        "output_string = reverse_string(input_string)\n",
        "print(output_string)"
      ],
      "metadata": {
        "colab": {
          "base_uri": "https://localhost:8080/"
        },
        "id": "5vEGYEF1tpVm",
        "outputId": "c399a376-5422-4ca7-cb33-8e1af467d518"
      },
      "execution_count": 23,
      "outputs": [
        {
          "output_type": "stream",
          "name": "stdout",
          "text": [
            "dlrow olleh\n"
          ]
        }
      ]
    },
    {
      "cell_type": "code",
      "source": [
        "#3\n",
        "def square_list(numbers):\n",
        "  \"\"\"Squares each number in a list.\n",
        "\n",
        "  Args:\n",
        "    numbers: A list of numbers.\n",
        "\n",
        "  Returns:\n",
        "    A new list containing the squares of the input numbers.\n",
        "  \"\"\"\n",
        "\n",
        "  squared_numbers = []\n",
        "  for num in numbers:\n",
        "    squared_numbers.append(num * num)\n",
        "  return squared_numbers"
      ],
      "metadata": {
        "id": "L506utBrtu5E"
      },
      "execution_count": 24,
      "outputs": []
    },
    {
      "cell_type": "code",
      "source": [
        "my_list = [1, 2, 3, 4, 5]\n",
        "result = square_list(my_list)\n",
        "print(result)"
      ],
      "metadata": {
        "colab": {
          "base_uri": "https://localhost:8080/"
        },
        "id": "RlS7R08at6nw",
        "outputId": "1a352642-d9e4-425d-eab5-61aad174f55e"
      },
      "execution_count": 25,
      "outputs": [
        {
          "output_type": "stream",
          "name": "stdout",
          "text": [
            "[1, 4, 9, 16, 25]\n"
          ]
        }
      ]
    },
    {
      "cell_type": "code",
      "source": [
        "#4\n",
        "def is_prime(num):\n",
        "  \"\"\"Checks if a given number is prime.\n",
        "\n",
        "  Args:\n",
        "    num: The number to check.\n",
        "\n",
        "  Returns:\n",
        "    True if the number is prime, False otherwise.\n",
        "  \"\"\"\n",
        "\n",
        "  if num <= 1:\n",
        "    return False\n",
        "  if num <= 3:\n",
        "    return True\n",
        "  if num % 2 == 0 or num % 3 == 0:\n",
        "    return False\n",
        "\n",
        "  i = 5\n",
        "  while i * i <= num:\n",
        "    if num % i == 0 or num % (i + 2) == 0:\n",
        "      return False\n",
        "    i += 6\n",
        "\n",
        "  return True"
      ],
      "metadata": {
        "id": "cbZ8XTmZt_bI"
      },
      "execution_count": 26,
      "outputs": []
    },
    {
      "cell_type": "code",
      "source": [
        "for num in range(1, 201):\n",
        "  if is_prime(num):\n",
        "    print(num)"
      ],
      "metadata": {
        "colab": {
          "base_uri": "https://localhost:8080/"
        },
        "id": "SGAZghqLuJjQ",
        "outputId": "872cb98e-0312-4d3a-8ef8-253c8d7e8ee3"
      },
      "execution_count": 27,
      "outputs": [
        {
          "output_type": "stream",
          "name": "stdout",
          "text": [
            "2\n",
            "3\n",
            "5\n",
            "7\n",
            "11\n",
            "13\n",
            "17\n",
            "19\n",
            "23\n",
            "29\n",
            "31\n",
            "37\n",
            "41\n",
            "43\n",
            "47\n",
            "53\n",
            "59\n",
            "61\n",
            "67\n",
            "71\n",
            "73\n",
            "79\n",
            "83\n",
            "89\n",
            "97\n",
            "101\n",
            "103\n",
            "107\n",
            "109\n",
            "113\n",
            "127\n",
            "131\n",
            "137\n",
            "139\n",
            "149\n",
            "151\n",
            "157\n",
            "163\n",
            "167\n",
            "173\n",
            "179\n",
            "181\n",
            "191\n",
            "193\n",
            "197\n",
            "199\n"
          ]
        }
      ]
    },
    {
      "cell_type": "code",
      "source": [
        "#5\n",
        "class FibonacciIterator:\n",
        "    def __init__(self, n):\n",
        "        self.n = n\n",
        "        self.a, self.b = 0, 1\n",
        "        self.count = 0\n",
        "\n",
        "    def __iter__(self):\n",
        "        return self\n",
        "\n",
        "    def __next__(self):\n",
        "        if self.count >= self.n:\n",
        "            raise StopIteration\n",
        "\n",
        "        self.count += 1\n",
        "        self.a, self.b = self.b, self.a + self.b\n",
        "        return self.a - self.b"
      ],
      "metadata": {
        "id": "9aVytzuIuNFY"
      },
      "execution_count": 28,
      "outputs": []
    },
    {
      "cell_type": "code",
      "source": [
        "n = 10\n",
        "fib_iter = FibonacciIterator(n)\n",
        "for num in fib_iter:\n",
        "    print(num)"
      ],
      "metadata": {
        "colab": {
          "base_uri": "https://localhost:8080/"
        },
        "id": "udu8Dbtoueya",
        "outputId": "b820e13f-1db2-4d88-fc25-e325373bf63c"
      },
      "execution_count": 29,
      "outputs": [
        {
          "output_type": "stream",
          "name": "stdout",
          "text": [
            "0\n",
            "-1\n",
            "-1\n",
            "-2\n",
            "-3\n",
            "-5\n",
            "-8\n",
            "-13\n",
            "-21\n",
            "-34\n"
          ]
        }
      ]
    },
    {
      "cell_type": "code",
      "source": [
        "def powers_of_two(exponent):\n",
        "    \"\"\"Generates powers of 2 up to a given exponent.\n",
        "\n",
        "    Args:\n",
        "        exponent: The maximum exponent.\n",
        "\n",
        "    Yields:\n",
        "        The next power of 2.\n",
        "    \"\"\"\n",
        "\n",
        "    power = 1\n",
        "    for i in range(exponent + 1):\n",
        "        yield power\n",
        "        power *= 2"
      ],
      "metadata": {
        "id": "0DHMZAlQuiBE"
      },
      "execution_count": 30,
      "outputs": []
    },
    {
      "cell_type": "code",
      "source": [
        "for power in powers_of_two(5):\n",
        "    print(power)"
      ],
      "metadata": {
        "colab": {
          "base_uri": "https://localhost:8080/"
        },
        "id": "gQEuACsruwiR",
        "outputId": "d47f6631-72b6-4a0d-892c-6dbd6986491c"
      },
      "execution_count": 31,
      "outputs": [
        {
          "output_type": "stream",
          "name": "stdout",
          "text": [
            "1\n",
            "2\n",
            "4\n",
            "8\n",
            "16\n",
            "32\n"
          ]
        }
      ]
    },
    {
      "cell_type": "code",
      "source": [
        "def read_file_lines(filename):\n",
        "    \"\"\"Reads a file line by line and yields each line as a string.\n",
        "\n",
        "    Args:\n",
        "        filename: The name of the file to read.\n",
        "\n",
        "    Yields:\n",
        "        The next line from the file.\n",
        "    \"\"\"\n",
        "\n",
        "    with open(filename, 'r') as file:\n",
        "        for line in file:\n",
        "            yield line.strip()"
      ],
      "metadata": {
        "id": "xe5yv3KQu-Vt"
      },
      "execution_count": 36,
      "outputs": []
    },
    {
      "cell_type": "code",
      "source": [
        "#8\n",
        "my_list = [(1, 3), (4, 2), (2, 5)]\n",
        "\n",
        "# Sort the list based on the second element of each tuple\n",
        "sorted_list = sorted(my_list, key=lambda x: x[1])\n",
        "\n",
        "print(sorted_list)  # Output: [(4, 2), (1, 3), (2, 5)]"
      ],
      "metadata": {
        "colab": {
          "base_uri": "https://localhost:8080/"
        },
        "id": "Wb7e4TpyvSnX",
        "outputId": "c65affaf-74c4-47c9-f05e-2f8c511c542a"
      },
      "execution_count": 37,
      "outputs": [
        {
          "output_type": "stream",
          "name": "stdout",
          "text": [
            "[(4, 2), (1, 3), (2, 5)]\n"
          ]
        }
      ]
    },
    {
      "cell_type": "code",
      "source": [
        "#9\n",
        "def celsius_to_fahrenheit(celsius):\n",
        "    return (celsius * 9/5) + 32\n",
        "\n",
        "temperatures_celsius = [0, 10, 20, 30, 40]\n",
        "temperatures_fahrenheit = list(map(celsius_to_fahrenheit, temperatures_celsius))\n",
        "\n",
        "print(temperatures_fahrenheit)"
      ],
      "metadata": {
        "colab": {
          "base_uri": "https://localhost:8080/"
        },
        "id": "7vUIn-lvvboB",
        "outputId": "e244a8e9-32ea-4ed0-bac9-2ba4634787db"
      },
      "execution_count": 38,
      "outputs": [
        {
          "output_type": "stream",
          "name": "stdout",
          "text": [
            "[32.0, 50.0, 68.0, 86.0, 104.0]\n"
          ]
        }
      ]
    },
    {
      "cell_type": "code",
      "source": [
        "#10\n",
        "def remove_vowels(string):\n",
        "    vowels = 'aeiouAEIOU'\n",
        "    return ''.join(filter(lambda char: char not in vowels, string))\n",
        "\n",
        "# Example usage:\n",
        "string = \"Hello, World!\"\n",
        "result = remove_vowels(string)\n",
        "print(result)  # Output: Hll, Wrld!"
      ],
      "metadata": {
        "colab": {
          "base_uri": "https://localhost:8080/"
        },
        "id": "V84XEzmCvnL_",
        "outputId": "e32f6b6a-21bf-48d1-998e-84d74c2712c8"
      },
      "execution_count": 39,
      "outputs": [
        {
          "output_type": "stream",
          "name": "stdout",
          "text": [
            "Hll, Wrld!\n"
          ]
        }
      ]
    },
    {
      "cell_type": "code",
      "source": [
        "#11\n",
        "def calculate_order_totals(orders):\n",
        "    \"\"\"Calculates the total price for each order, adjusting for small orders.\n",
        "\n",
        "    Args:\n",
        "        orders: A list of tuples, where each tuple contains an order number,\n",
        "                price per item, and quantity.\n",
        "\n",
        "    Returns:\n",
        "        A list of tuples, where each tuple contains the order number and the\n",
        "        adjusted total price.\n",
        "    \"\"\"\n",
        "\n",
        "    def calculate_total(order):\n",
        "        order_num, price, quantity = order\n",
        "        total = price * quantity\n",
        "        if total < 100:\n",
        "            total += 10\n",
        "        return order_num, total\n",
        "\n",
        "    return list(map(calculate_total, orders))"
      ],
      "metadata": {
        "id": "UTfpJ8--vwsk"
      },
      "execution_count": 40,
      "outputs": []
    },
    {
      "cell_type": "code",
      "source": [
        "orders = [(1, 10, 5), (2, 20, 3), (3, 5, 15)]\n",
        "result = calculate_order_totals(orders)\n",
        "print(result)  # Output: [(1, 60), (2, 60), (3, 85)]"
      ],
      "metadata": {
        "colab": {
          "base_uri": "https://localhost:8080/"
        },
        "id": "Wk-WutoEwYPe",
        "outputId": "154580a5-b485-4a89-ce54-89d83f2fa965"
      },
      "execution_count": 41,
      "outputs": [
        {
          "output_type": "stream",
          "name": "stdout",
          "text": [
            "[(1, 60), (2, 70), (3, 85)]\n"
          ]
        }
      ]
    },
    {
      "cell_type": "code",
      "source": [],
      "metadata": {
        "id": "LRDr53dGwfmM"
      },
      "execution_count": null,
      "outputs": []
    }
  ]
}